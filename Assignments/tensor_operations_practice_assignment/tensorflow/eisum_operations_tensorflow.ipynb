{
  "nbformat": 4,
  "nbformat_minor": 0,
  "metadata": {
    "colab": {
      "provenance": []
    },
    "kernelspec": {
      "name": "python3",
      "display_name": "Python 3"
    },
    "language_info": {
      "name": "python"
    }
  },
  "cells": [
    {
      "cell_type": "code",
      "execution_count": 1,
      "metadata": {
        "colab": {
          "base_uri": "https://localhost:8080/"
        },
        "id": "wSKA1ZQPh5F8",
        "outputId": "82ee27a6-4449-489a-d480-10727ff4817f"
      },
      "outputs": [
        {
          "output_type": "stream",
          "name": "stdout",
          "text": [
            "TensorFlow Version: 2.18.0\n"
          ]
        }
      ],
      "source": [
        "# import libraries\n",
        "import tensorflow as tf\n",
        "import numpy as np\n",
        "\n",
        "print(\"TensorFlow Version:\", tf.__version__)"
      ]
    },
    {
      "cell_type": "markdown",
      "source": [
        "## **Creating Tensors**"
      ],
      "metadata": {
        "id": "5LPAB0HTo6Do"
      }
    },
    {
      "cell_type": "code",
      "source": [
        "# create tensors\n",
        "scalar = tf.constant(10)\n",
        "vector = tf.constant([1, 5, 10, 13, 19])\n",
        "matrix = tf.constant([[1, 6, 10], [4, 7, 13]])\n",
        "tensor = tf.constant([[[11, 20], [34, 45]], [[61, 67], [99, 109]]])\n",
        "\n",
        "# tensor properties\n",
        "print(\"Scalar: \", scalar)\n",
        "print(\"\\nVector: \", vector)\n",
        "print(\"\\nMatrix: \", matrix)\n",
        "print(\"\\nTensor: \", tensor)\n",
        "\n",
        "# shape and dtype\n",
        "print(\"\\nShapes and Data Types:\\n\")\n",
        "print(\"Scalar shape:\", scalar.shape, \", dtype:\", scalar.dtype)\n",
        "print(\"Vector shape:\", vector.shape, \", dtype:\", vector.dtype)\n",
        "print(\"Matrix shape:\", matrix.shape, \", dtype:\", matrix.dtype)\n",
        "print(\"Tensor shape:\", tensor.shape, \", dtype:\", tensor.dtype)"
      ],
      "metadata": {
        "colab": {
          "base_uri": "https://localhost:8080/"
        },
        "id": "mlbLixKxjUmC",
        "outputId": "b9a00736-ce40-41e6-f1cd-b77ba0c576f1"
      },
      "execution_count": 2,
      "outputs": [
        {
          "output_type": "stream",
          "name": "stdout",
          "text": [
            "Scalar:  tf.Tensor(10, shape=(), dtype=int32)\n",
            "\n",
            "Vector:  tf.Tensor([ 1  5 10 13 19], shape=(5,), dtype=int32)\n",
            "\n",
            "Matrix:  tf.Tensor(\n",
            "[[ 1  6 10]\n",
            " [ 4  7 13]], shape=(2, 3), dtype=int32)\n",
            "\n",
            "Tensor:  tf.Tensor(\n",
            "[[[ 11  20]\n",
            "  [ 34  45]]\n",
            "\n",
            " [[ 61  67]\n",
            "  [ 99 109]]], shape=(2, 2, 2), dtype=int32)\n",
            "\n",
            "Shapes and Data Types:\n",
            "\n",
            "Scalar shape: () , dtype: <dtype: 'int32'>\n",
            "Vector shape: (5,) , dtype: <dtype: 'int32'>\n",
            "Matrix shape: (2, 3) , dtype: <dtype: 'int32'>\n",
            "Tensor shape: (2, 2, 2) , dtype: <dtype: 'int32'>\n"
          ]
        }
      ]
    },
    {
      "cell_type": "markdown",
      "source": [
        "## **Basic Tensor Operations**"
      ],
      "metadata": {
        "id": "Ip33HL0BkvUk"
      }
    },
    {
      "cell_type": "code",
      "source": [
        "# tensor addition, subtraction, multiplication, and division\n",
        "a = tf.constant([2, 4, 6])\n",
        "b = tf.constant([1, 2, 3])\n",
        "\n",
        "print(\"Addition:\", tf.add(a, b).numpy())\n",
        "print(\"Subtraction:\", tf.subtract(a, b).numpy())\n",
        "print(\"Multiplication:\", tf.multiply(a, b).numpy())\n",
        "print(\"Division:\", tf.divide(a, b).numpy())"
      ],
      "metadata": {
        "colab": {
          "base_uri": "https://localhost:8080/"
        },
        "id": "xhcVmXzyjUo9",
        "outputId": "4089fbe5-4d3c-48dc-abf1-a9ae2740d854"
      },
      "execution_count": 3,
      "outputs": [
        {
          "output_type": "stream",
          "name": "stdout",
          "text": [
            "Addition: [3 6 9]\n",
            "Subtraction: [1 2 3]\n",
            "Multiplication: [ 2  8 18]\n",
            "Division: [2. 2. 2.]\n"
          ]
        }
      ]
    },
    {
      "cell_type": "markdown",
      "source": [
        "## **Reshaping and Transposing**"
      ],
      "metadata": {
        "id": "1SVWOkLvk5RE"
      }
    },
    {
      "cell_type": "code",
      "source": [
        "# reshaping tensors\n",
        "tensor = tf.constant([[1, 2, 3], [4, 5, 6]])\n",
        "reshaped_tensor = tf.reshape(tensor, (3, 2))\n",
        "\n",
        "print(\"Original Tensor:\\n\", tensor.numpy())\n",
        "print(\"Reshaped Tensor:\\n\", reshaped_tensor.numpy())\n",
        "\n",
        "# transposing tensors\n",
        "transposed_tensor = tf.transpose(tensor)\n",
        "print(\"Transposed Tensor:\\n\", transposed_tensor.numpy())"
      ],
      "metadata": {
        "colab": {
          "base_uri": "https://localhost:8080/"
        },
        "id": "3SLBrLd9jUsO",
        "outputId": "664b16ab-4886-46b6-d7ff-0e4fc5f4b5b5"
      },
      "execution_count": 4,
      "outputs": [
        {
          "output_type": "stream",
          "name": "stdout",
          "text": [
            "Original Tensor:\n",
            " [[1 2 3]\n",
            " [4 5 6]]\n",
            "Reshaped Tensor:\n",
            " [[1 2]\n",
            " [3 4]\n",
            " [5 6]]\n",
            "Transposed Tensor:\n",
            " [[1 4]\n",
            " [2 5]\n",
            " [3 6]]\n"
          ]
        }
      ]
    },
    {
      "cell_type": "markdown",
      "source": [
        "## **Dot Product and Matrix Multiplication**"
      ],
      "metadata": {
        "id": "_eVYlskGlA0w"
      }
    },
    {
      "cell_type": "code",
      "source": [
        "# dot product (1D tensors)\n",
        "x = tf.constant([1, 2, 3])\n",
        "y = tf.constant([4, 5, 6])\n",
        "dot_product = tf.tensordot(x, y, axes=1)\n",
        "\n",
        "print(\"Dot Product:\", dot_product.numpy())\n",
        "\n",
        "# matrix multiplication\n",
        "mat1 = tf.constant([[1, 2], [3, 4]])\n",
        "mat2 = tf.constant([[5, 6], [7, 8]])\n",
        "matmul_result = tf.matmul(mat1, mat2)\n",
        "\n",
        "print(\"Matrix Multiplication Result:\\n\", matmul_result.numpy())"
      ],
      "metadata": {
        "colab": {
          "base_uri": "https://localhost:8080/"
        },
        "id": "gzw3L1vjjUu2",
        "outputId": "3578b730-3c40-4cd9-cb01-069c55af64fd"
      },
      "execution_count": 5,
      "outputs": [
        {
          "output_type": "stream",
          "name": "stdout",
          "text": [
            "Dot Product: 32\n",
            "Matrix Multiplication Result:\n",
            " [[19 22]\n",
            " [43 50]]\n"
          ]
        }
      ]
    },
    {
      "cell_type": "markdown",
      "source": [
        "## **Broadcasting in TensorFlow**"
      ],
      "metadata": {
        "id": "JgIWGq7llIsM"
      }
    },
    {
      "cell_type": "code",
      "source": [
        "# broadcasting Example\n",
        "A = tf.constant([[1], [2], [3]])\n",
        "B = tf.constant([1, 2, 3])\n",
        "result = A + B\n",
        "\n",
        "print(\"Broadcasting Example:\\n\", result.numpy())"
      ],
      "metadata": {
        "colab": {
          "base_uri": "https://localhost:8080/"
        },
        "id": "Z6wFUHrnjUxy",
        "outputId": "58a0ce7a-5e13-4172-abe8-67808eefb0ee"
      },
      "execution_count": 6,
      "outputs": [
        {
          "output_type": "stream",
          "name": "stdout",
          "text": [
            "Broadcasting Example:\n",
            " [[2 3 4]\n",
            " [3 4 5]\n",
            " [4 5 6]]\n"
          ]
        }
      ]
    },
    {
      "cell_type": "markdown",
      "source": [
        "## **Einsum Operations**"
      ],
      "metadata": {
        "id": "lbQMlY00lK_8"
      }
    },
    {
      "cell_type": "code",
      "source": [
        "# einsum examples\n",
        "a = tf.random.uniform(shape=[3, 4])\n",
        "b = tf.random.uniform(shape=[4, 5])\n",
        "\n",
        "# matrix multiplication using einsum\n",
        "einsum_matmul = tf.einsum('ij,jk->ik', a, b)\n",
        "\n",
        "# trace of a square matrix\n",
        "square_matrix = tf.constant([[1, 2], [3, 4]])\n",
        "einsum_trace = tf.einsum('ii->', square_matrix)\n",
        "\n",
        "# outer product\n",
        "vector_1 = tf.constant([1, 2, 3])\n",
        "vector_2 = tf.constant([4, 5, 6])\n",
        "einsum_outer = tf.einsum('i,j->ij', vector_1, vector_2)\n",
        "\n",
        "print(\"Einsum Matrix Multiplication Result:\\n\", einsum_matmul.numpy())\n",
        "print(\"Einsum Trace of Matrix:\\n\", einsum_trace.numpy())\n",
        "print(\"Einsum Outer Product:\\n\", einsum_outer.numpy())"
      ],
      "metadata": {
        "colab": {
          "base_uri": "https://localhost:8080/"
        },
        "id": "0y0SJhdojU0r",
        "outputId": "037a1171-3cb6-4d98-c578-2b18eba96f04"
      },
      "execution_count": 7,
      "outputs": [
        {
          "output_type": "stream",
          "name": "stdout",
          "text": [
            "Einsum Matrix Multiplication Result:\n",
            " [[1.3697671  2.4593422  1.3298445  1.8620478  1.1111609 ]\n",
            " [0.60312855 1.0497644  0.3391122  0.95724297 0.30616155]\n",
            " [0.8360146  1.5743948  1.1087475  1.0373797  0.9150677 ]]\n",
            "Einsum Trace of Matrix:\n",
            " 5\n",
            "Einsum Outer Product:\n",
            " [[ 4  5  6]\n",
            " [ 8 10 12]\n",
            " [12 15 18]]\n"
          ]
        }
      ]
    },
    {
      "cell_type": "markdown",
      "source": [
        "## **Reduction Operations**"
      ],
      "metadata": {
        "id": "7DgBUPQ2lP22"
      }
    },
    {
      "cell_type": "code",
      "source": [
        "# sum, mean, max, min\n",
        "tensor = tf.constant([[1, 2, 3], [4, 5, 6]])\n",
        "print(\"Sum:\", tf.reduce_sum(tensor).numpy())\n",
        "print(\"Mean:\", tf.reduce_mean(tensor).numpy())\n",
        "print(\"Max:\", tf.reduce_max(tensor).numpy())\n",
        "print(\"Min:\", tf.reduce_min(tensor).numpy())\n",
        "\n",
        "# sum along axis\n",
        "print(\"Sum along axis=0:\", tf.reduce_sum(tensor, axis=0).numpy())\n",
        "print(\"Sum along axis=1:\", tf.reduce_sum(tensor, axis=1).numpy())"
      ],
      "metadata": {
        "colab": {
          "base_uri": "https://localhost:8080/"
        },
        "id": "WElo0FEkkF2z",
        "outputId": "f8b04060-a21f-4e20-9561-47a1a309b3af"
      },
      "execution_count": 8,
      "outputs": [
        {
          "output_type": "stream",
          "name": "stdout",
          "text": [
            "Sum: 21\n",
            "Mean: 3\n",
            "Max: 6\n",
            "Min: 1\n",
            "Sum along axis=0: [5 7 9]\n",
            "Sum along axis=1: [ 6 15]\n"
          ]
        }
      ]
    },
    {
      "cell_type": "markdown",
      "source": [
        "## **Gradient Computation with** *tf.GradientTape*"
      ],
      "metadata": {
        "id": "PYO5Vx11lU4n"
      }
    },
    {
      "cell_type": "code",
      "source": [
        "# tf.GradientTape for automatic differentiation\n",
        "x = tf.Variable(3.0)\n",
        "\n",
        "with tf.GradientTape() as tape:\n",
        "    y = x**2 + 3*x + 5\n",
        "\n",
        "# compute gradient dy/dx\n",
        "dy_dx = tape.gradient(y, x)\n",
        "\n",
        "print(\"Gradient dy/dx at x=3:\", dy_dx.numpy())"
      ],
      "metadata": {
        "colab": {
          "base_uri": "https://localhost:8080/"
        },
        "id": "_CAsgjA7kF6C",
        "outputId": "0c70653a-cd05-46e6-8df0-c450e5266e98"
      },
      "execution_count": 9,
      "outputs": [
        {
          "output_type": "stream",
          "name": "stdout",
          "text": [
            "Gradient dy/dx at x=3: 9.0\n"
          ]
        }
      ]
    }
  ]
}