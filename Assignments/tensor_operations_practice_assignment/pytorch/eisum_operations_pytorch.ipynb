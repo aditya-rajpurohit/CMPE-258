{
  "nbformat": 4,
  "nbformat_minor": 0,
  "metadata": {
    "colab": {
      "provenance": []
    },
    "kernelspec": {
      "name": "python3",
      "display_name": "Python 3"
    },
    "language_info": {
      "name": "python"
    }
  },
  "cells": [
    {
      "cell_type": "code",
      "execution_count": 1,
      "metadata": {
        "colab": {
          "base_uri": "https://localhost:8080/"
        },
        "id": "XIPUA6A8pMao",
        "outputId": "d6b3053d-cdba-49c9-caa7-ac08dec39510"
      },
      "outputs": [
        {
          "output_type": "stream",
          "name": "stdout",
          "text": [
            "PyTorch Version: 2.5.1+cu124\n"
          ]
        }
      ],
      "source": [
        "# import libraries\n",
        "import torch\n",
        "import numpy as np\n",
        "from einops import rearrange, reduce\n",
        "\n",
        "print(\"PyTorch Version:\", torch.__version__)"
      ]
    },
    {
      "cell_type": "markdown",
      "source": [
        "## **Creating Tensors**"
      ],
      "metadata": {
        "id": "XS2tT5soqV5k"
      }
    },
    {
      "cell_type": "code",
      "source": [
        "# Creating different types of tensors\n",
        "scalar = torch.tensor(9)\n",
        "vector = torch.tensor([11, 22, 33])\n",
        "matrix = torch.tensor([[11, 12], [13, 14]])\n",
        "tensor = torch.tensor([[[1, 2], [3, 4]], [[5, 6], [7, 8]]])\n",
        "\n",
        "print(\"Scalar:\", scalar)\n",
        "print(\"Vector:\", vector)\n",
        "print(\"Matrix:\\n\", matrix)\n",
        "print(\"Tensor:\\n\", tensor)"
      ],
      "metadata": {
        "colab": {
          "base_uri": "https://localhost:8080/"
        },
        "id": "OAOS36NFp_sP",
        "outputId": "15db0371-ef46-40ab-c417-558b96bac9af"
      },
      "execution_count": 2,
      "outputs": [
        {
          "output_type": "stream",
          "name": "stdout",
          "text": [
            "Scalar: tensor(9)\n",
            "Vector: tensor([11, 22, 33])\n",
            "Matrix:\n",
            " tensor([[11, 12],\n",
            "        [13, 14]])\n",
            "Tensor:\n",
            " tensor([[[1, 2],\n",
            "         [3, 4]],\n",
            "\n",
            "        [[5, 6],\n",
            "         [7, 8]]])\n"
          ]
        }
      ]
    },
    {
      "cell_type": "markdown",
      "source": [
        "## **Basic Tensor Operations**"
      ],
      "metadata": {
        "id": "JlipH9MYDsDk"
      }
    },
    {
      "cell_type": "code",
      "source": [
        "# basic operations on tensors\n",
        "x = torch.tensor([[1, 2], [3, 4]], dtype=torch.float32)\n",
        "y = torch.tensor([[5, 6], [7, 8]], dtype=torch.float32)\n",
        "\n",
        "print(\"Addition:\\n\", x + y)  # element-wise addition\n",
        "print(\"Multiplication:\\n\", x * y)  # element-wise multiplication\n",
        "print(\"Matrix Multiplication:\\n\", torch.matmul(x, y))"
      ],
      "metadata": {
        "colab": {
          "base_uri": "https://localhost:8080/"
        },
        "id": "yXbw9PEyp_vn",
        "outputId": "8d919800-5929-4cc7-90b9-ca09f8b2f730"
      },
      "execution_count": 3,
      "outputs": [
        {
          "output_type": "stream",
          "name": "stdout",
          "text": [
            "Addition:\n",
            " tensor([[ 6.,  8.],\n",
            "        [10., 12.]])\n",
            "Multiplication:\n",
            " tensor([[ 5., 12.],\n",
            "        [21., 32.]])\n",
            "Matrix Multiplication:\n",
            " tensor([[19., 22.],\n",
            "        [43., 50.]])\n"
          ]
        }
      ]
    },
    {
      "cell_type": "markdown",
      "source": [
        "## **Reshaping and Transposing**"
      ],
      "metadata": {
        "id": "6fbqrQiiEAf9"
      }
    },
    {
      "cell_type": "code",
      "source": [
        "# reshaping tensors\n",
        "reshaped_tensor = tensor.view(2, 4)\n",
        "print(\"Reshaped Tensor:\\n\", reshaped_tensor)\n",
        "\n",
        "# transposing tensors\n",
        "t_transposed = torch.transpose(x, 0, 1)\n",
        "print(\"Transposed Tensor:\\n\", t_transposed)"
      ],
      "metadata": {
        "colab": {
          "base_uri": "https://localhost:8080/"
        },
        "id": "10IE_PUOp_y7",
        "outputId": "fde95733-0ba8-4750-ff96-20431ea92355"
      },
      "execution_count": 4,
      "outputs": [
        {
          "output_type": "stream",
          "name": "stdout",
          "text": [
            "Reshaped Tensor:\n",
            " tensor([[1, 2, 3, 4],\n",
            "        [5, 6, 7, 8]])\n",
            "Transposed Tensor:\n",
            " tensor([[1., 3.],\n",
            "        [2., 4.]])\n"
          ]
        }
      ]
    },
    {
      "cell_type": "markdown",
      "source": [
        "## **Advanced Tensor Operations**"
      ],
      "metadata": {
        "id": "rVjy9BAZEK7P"
      }
    },
    {
      "cell_type": "code",
      "source": [
        "# squeeze and unsqueeze tensor\n",
        "t_squeezed = torch.squeeze(torch.tensor([[[1], [2], [3]]]))\n",
        "print(\"Squeezed Tensor:\\n\", t_squeezed)\n",
        "\n",
        "t_unsqueezed = torch.unsqueeze(torch.tensor([1, 2, 3]), dim=1)\n",
        "print(\"Unsqueezed Tensor:\\n\", t_unsqueezed)"
      ],
      "metadata": {
        "colab": {
          "base_uri": "https://localhost:8080/"
        },
        "id": "wsTjlQ1tp_1m",
        "outputId": "631ee72f-4261-4e50-cd97-23fa1b752938"
      },
      "execution_count": 5,
      "outputs": [
        {
          "output_type": "stream",
          "name": "stdout",
          "text": [
            "Squeezed Tensor:\n",
            " tensor([1, 2, 3])\n",
            "Unsqueezed Tensor:\n",
            " tensor([[1],\n",
            "        [2],\n",
            "        [3]])\n"
          ]
        }
      ]
    },
    {
      "cell_type": "markdown",
      "source": [
        "## **Permutation**"
      ],
      "metadata": {
        "id": "3ULGeVviES3Y"
      }
    },
    {
      "cell_type": "code",
      "source": [
        "# permutation\n",
        "z = torch.rand(2, 3, 4)\n",
        "z_permuted = z.permute(2, 0, 1)\n",
        "print(\"Permuted Tensor Shape:\\n\", z_permuted.shape)"
      ],
      "metadata": {
        "colab": {
          "base_uri": "https://localhost:8080/"
        },
        "id": "h2oPtKtVp_4d",
        "outputId": "13c28956-686d-4e49-c9ce-9ac29392f451"
      },
      "execution_count": 6,
      "outputs": [
        {
          "output_type": "stream",
          "name": "stdout",
          "text": [
            "Permuted Tensor Shape:\n",
            " torch.Size([4, 2, 3])\n"
          ]
        }
      ]
    },
    {
      "cell_type": "markdown",
      "source": [
        "## **Exponentiation**"
      ],
      "metadata": {
        "id": "F14QrpZTEZts"
      }
    },
    {
      "cell_type": "code",
      "source": [
        "# element-wise exponentiation\n",
        "t_exp = torch.pow(x, 2)\n",
        "print(\"Element-wise exponentiation:\\n\", t_exp)"
      ],
      "metadata": {
        "colab": {
          "base_uri": "https://localhost:8080/"
        },
        "id": "4xN4lkLBp_7K",
        "outputId": "80409d9d-213d-436d-84a6-bc4cd26d1ed1"
      },
      "execution_count": 7,
      "outputs": [
        {
          "output_type": "stream",
          "name": "stdout",
          "text": [
            "Element-wise exponentiation:\n",
            " tensor([[ 1.,  4.],\n",
            "        [ 9., 16.]])\n"
          ]
        }
      ]
    },
    {
      "cell_type": "markdown",
      "source": [
        "## **Einsum Operations**"
      ],
      "metadata": {
        "id": "QLBIg_hlEghF"
      }
    },
    {
      "cell_type": "code",
      "source": [
        "# einsum examples\n",
        "a = torch.tensor([[1, 2], [3, 4]])\n",
        "b = torch.tensor([[5, 6], [7, 8]])\n",
        "\n",
        "# element-wise multiplication\n",
        "einsum_result1 = torch.einsum('ij,ij->ij', [a, b])\n",
        "print(\"Einsum - Element-wise multiplication:\\n\", einsum_result1)\n",
        "\n",
        "# matrix multiplication\n",
        "einsum_result2 = torch.einsum('ik,kj->ij', [x, y])\n",
        "print(\"Einsum - Matrix Multiplication:\\n\", einsum_result2)\n",
        "\n",
        "# sum across columns\n",
        "einsum_result3 = torch.einsum('ij->i', torch.tensor([[1, 2, 3], [4, 5, 6]]))\n",
        "print(\"Einsum - Sum across columns:\\n\", einsum_result3)"
      ],
      "metadata": {
        "colab": {
          "base_uri": "https://localhost:8080/"
        },
        "id": "Z46-6dlMp_-F",
        "outputId": "af0a85ff-aa3d-4966-ba22-6b951cea3c22"
      },
      "execution_count": 8,
      "outputs": [
        {
          "output_type": "stream",
          "name": "stdout",
          "text": [
            "Einsum - Element-wise multiplication:\n",
            " tensor([[ 5, 12],\n",
            "        [21, 32]])\n",
            "Einsum - Matrix Multiplication:\n",
            " tensor([[19., 22.],\n",
            "        [43., 50.]])\n",
            "Einsum - Sum across columns:\n",
            " tensor([ 6, 15])\n"
          ]
        }
      ]
    },
    {
      "cell_type": "markdown",
      "source": [
        "## **Einops for Tensor Manipulations**"
      ],
      "metadata": {
        "id": "KV3cKPv-ExOT"
      }
    },
    {
      "cell_type": "code",
      "source": [
        "# using einops for tensor manipulations\n",
        "# rearranging\n",
        "z_rearranged = rearrange(z, 'b c h -> h b c')\n",
        "print(\"Einops - Rearranged Tensor Shape:\\n\", z_rearranged.shape)\n",
        "\n",
        "# reducing\n",
        "z_reduced = reduce(z, 'b c h -> b h', 'sum')\n",
        "print(\"Einops - Reduced Tensor Shape:\\n\", z_reduced.shape)"
      ],
      "metadata": {
        "colab": {
          "base_uri": "https://localhost:8080/"
        },
        "id": "D9KsJeRFqABZ",
        "outputId": "2f333b76-ba5c-4870-d4cd-475bbe8dd27f"
      },
      "execution_count": 9,
      "outputs": [
        {
          "output_type": "stream",
          "name": "stdout",
          "text": [
            "Einops - Rearranged Tensor Shape:\n",
            " torch.Size([4, 2, 3])\n",
            "Einops - Reduced Tensor Shape:\n",
            " torch.Size([2, 4])\n"
          ]
        }
      ]
    }
  ]
}